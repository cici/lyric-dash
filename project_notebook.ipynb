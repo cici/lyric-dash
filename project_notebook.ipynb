{
 "cells": [
  {
   "cell_type": "markdown",
   "metadata": {},
   "source": [
    "# Introduction\n",
    "![dash-logo](images/dash-logo.jpg)\n",
    "\n",
    "**Making a dashboard** is a great way to share the value of a data science project with users––coders and noncoders alike. \n",
    "\n",
    "Be sure to check out the [Dash Gallery](https://dash-gallery.plotly.host/Portal/) for inspiration!\n",
    "\n",
    "Today we will be building a basic multi-page dash application using Illinois population data and boilerplate code from [Dash Bootstrap Components](http://dash-bootstrap-components.opensource.faculty.ai/)\n",
    "\n",
    "The code will be run with py files in Terminal, but a walkthrough of the code is available in this notebook."
   ]
  },
  {
   "cell_type": "markdown",
   "metadata": {},
   "source": [
    "# Import Libraries"
   ]
  },
  {
   "cell_type": "code",
   "execution_count": 63,
   "metadata": {
    "ExecuteTime": {
     "end_time": "2019-10-03T08:33:03.906790Z",
     "start_time": "2019-10-03T08:33:03.268497Z"
    }
   },
   "outputs": [],
   "source": [
    "### Data\n",
    "import pandas as pd\n",
    "import pickle\n",
    "\n",
    "### Graphing\n",
    "import plotly.graph_objects as go\n",
    "\n",
    "### Dash\n",
    "import dash\n",
    "import dash_core_components as dcc\n",
    "import dash_html_components as html\n",
    "import dash_bootstrap_components as dbc\n",
    "from dash.dependencies import Output, Input"
   ]
  },
  {
   "cell_type": "markdown",
   "metadata": {},
   "source": [
    "# Import Data"
   ]
  },
  {
   "cell_type": "code",
   "execution_count": 38,
   "metadata": {
    "ExecuteTime": {
     "end_time": "2019-10-03T02:07:41.516996Z",
     "start_time": "2019-10-03T02:07:41.496895Z"
    }
   },
   "outputs": [
    {
     "data": {
      "text/html": [
       "<div>\n",
       "<style scoped>\n",
       "    .dataframe tbody tr th:only-of-type {\n",
       "        vertical-align: middle;\n",
       "    }\n",
       "\n",
       "    .dataframe tbody tr th {\n",
       "        vertical-align: top;\n",
       "    }\n",
       "\n",
       "    .dataframe thead th {\n",
       "        text-align: right;\n",
       "    }\n",
       "</style>\n",
       "<table border=\"1\" class=\"dataframe\">\n",
       "  <thead>\n",
       "    <tr style=\"text-align: right;\">\n",
       "      <th></th>\n",
       "      <th>Unnamed: 0</th>\n",
       "      <th>Abingdon city, Illinois</th>\n",
       "      <th>Addieville village, Illinois</th>\n",
       "      <th>Addison village, Illinois</th>\n",
       "      <th>Adeline village, Illinois</th>\n",
       "      <th>Albany village, Illinois</th>\n",
       "      <th>Albers village, Illinois</th>\n",
       "      <th>Albion city, Illinois</th>\n",
       "      <th>Aledo city, Illinois</th>\n",
       "      <th>Alexis village, Illinois</th>\n",
       "      <th>...</th>\n",
       "      <th>Worden village, Illinois</th>\n",
       "      <th>Worth village, Illinois</th>\n",
       "      <th>Wyanet village, Illinois</th>\n",
       "      <th>Wyoming city, Illinois</th>\n",
       "      <th>Xenia village, Illinois</th>\n",
       "      <th>Yale village, Illinois</th>\n",
       "      <th>Yates City village, Illinois</th>\n",
       "      <th>Yorkville city, Illinois</th>\n",
       "      <th>Zeigler city, Illinois</th>\n",
       "      <th>Zion city, Illinois</th>\n",
       "    </tr>\n",
       "  </thead>\n",
       "  <tbody>\n",
       "    <tr>\n",
       "      <th>0</th>\n",
       "      <td>2010-01-01 00:00:00</td>\n",
       "      <td>3286</td>\n",
       "      <td>252</td>\n",
       "      <td>37113</td>\n",
       "      <td>85</td>\n",
       "      <td>903</td>\n",
       "      <td>1183</td>\n",
       "      <td>1996</td>\n",
       "      <td>3640</td>\n",
       "      <td>830</td>\n",
       "      <td>...</td>\n",
       "      <td>1072</td>\n",
       "      <td>10798</td>\n",
       "      <td>984</td>\n",
       "      <td>1424</td>\n",
       "      <td>382</td>\n",
       "      <td>86</td>\n",
       "      <td>691</td>\n",
       "      <td>17041</td>\n",
       "      <td>1803</td>\n",
       "      <td>24421</td>\n",
       "    </tr>\n",
       "    <tr>\n",
       "      <th>1</th>\n",
       "      <td>2011-01-01 00:00:00</td>\n",
       "      <td>3272</td>\n",
       "      <td>253</td>\n",
       "      <td>37294</td>\n",
       "      <td>84</td>\n",
       "      <td>901</td>\n",
       "      <td>1185</td>\n",
       "      <td>1976</td>\n",
       "      <td>3617</td>\n",
       "      <td>828</td>\n",
       "      <td>...</td>\n",
       "      <td>1075</td>\n",
       "      <td>10831</td>\n",
       "      <td>977</td>\n",
       "      <td>1391</td>\n",
       "      <td>379</td>\n",
       "      <td>86</td>\n",
       "      <td>687</td>\n",
       "      <td>17295</td>\n",
       "      <td>1798</td>\n",
       "      <td>24383</td>\n",
       "    </tr>\n",
       "  </tbody>\n",
       "</table>\n",
       "<p>2 rows × 1299 columns</p>\n",
       "</div>"
      ],
      "text/plain": [
       "            Unnamed: 0  Abingdon city, Illinois  Addieville village, Illinois  \\\n",
       "0  2010-01-01 00:00:00                     3286                           252   \n",
       "1  2011-01-01 00:00:00                     3272                           253   \n",
       "\n",
       "   Addison village, Illinois  Adeline village, Illinois  \\\n",
       "0                      37113                         85   \n",
       "1                      37294                         84   \n",
       "\n",
       "   Albany village, Illinois  Albers village, Illinois  Albion city, Illinois  \\\n",
       "0                       903                      1183                   1996   \n",
       "1                       901                      1185                   1976   \n",
       "\n",
       "   Aledo city, Illinois  Alexis village, Illinois  ...  \\\n",
       "0                  3640                       830  ...   \n",
       "1                  3617                       828  ...   \n",
       "\n",
       "   Worden village, Illinois  Worth village, Illinois  \\\n",
       "0                      1072                    10798   \n",
       "1                      1075                    10831   \n",
       "\n",
       "   Wyanet village, Illinois  Wyoming city, Illinois  Xenia village, Illinois  \\\n",
       "0                       984                    1424                      382   \n",
       "1                       977                    1391                      379   \n",
       "\n",
       "   Yale village, Illinois  Yates City village, Illinois  \\\n",
       "0                      86                           691   \n",
       "1                      86                           687   \n",
       "\n",
       "   Yorkville city, Illinois  Zeigler city, Illinois  Zion city, Illinois  \n",
       "0                     17041                    1803                24421  \n",
       "1                     17295                    1798                24383  \n",
       "\n",
       "[2 rows x 1299 columns]"
      ]
     },
     "execution_count": 38,
     "metadata": {},
     "output_type": "execute_result"
    }
   ],
   "source": [
    "df = pd.read_csv('population_il_cities.csv')\n",
    "\n",
    "df.head(2)"
   ]
  },
  {
   "cell_type": "markdown",
   "metadata": {},
   "source": [
    "The data for this project is formatted to be a datetime index. \n",
    "\n",
    "csv files always replace the index of files with a standard range index.\n",
    "\n",
    "Let's reset the index."
   ]
  },
  {
   "cell_type": "code",
   "execution_count": 46,
   "metadata": {
    "ExecuteTime": {
     "end_time": "2019-10-03T02:08:47.978743Z",
     "start_time": "2019-10-03T02:08:47.960941Z"
    }
   },
   "outputs": [
    {
     "data": {
      "text/html": [
       "<div>\n",
       "<style scoped>\n",
       "    .dataframe tbody tr th:only-of-type {\n",
       "        vertical-align: middle;\n",
       "    }\n",
       "\n",
       "    .dataframe tbody tr th {\n",
       "        vertical-align: top;\n",
       "    }\n",
       "\n",
       "    .dataframe thead th {\n",
       "        text-align: right;\n",
       "    }\n",
       "</style>\n",
       "<table border=\"1\" class=\"dataframe\">\n",
       "  <thead>\n",
       "    <tr style=\"text-align: right;\">\n",
       "      <th></th>\n",
       "      <th>Abingdon city, Illinois</th>\n",
       "      <th>Addieville village, Illinois</th>\n",
       "      <th>Addison village, Illinois</th>\n",
       "      <th>Adeline village, Illinois</th>\n",
       "      <th>Albany village, Illinois</th>\n",
       "      <th>Albers village, Illinois</th>\n",
       "      <th>Albion city, Illinois</th>\n",
       "      <th>Aledo city, Illinois</th>\n",
       "      <th>Alexis village, Illinois</th>\n",
       "      <th>Algonquin village, Illinois</th>\n",
       "      <th>...</th>\n",
       "      <th>Worden village, Illinois</th>\n",
       "      <th>Worth village, Illinois</th>\n",
       "      <th>Wyanet village, Illinois</th>\n",
       "      <th>Wyoming city, Illinois</th>\n",
       "      <th>Xenia village, Illinois</th>\n",
       "      <th>Yale village, Illinois</th>\n",
       "      <th>Yates City village, Illinois</th>\n",
       "      <th>Yorkville city, Illinois</th>\n",
       "      <th>Zeigler city, Illinois</th>\n",
       "      <th>Zion city, Illinois</th>\n",
       "    </tr>\n",
       "    <tr>\n",
       "      <th>Unnamed: 0</th>\n",
       "      <th></th>\n",
       "      <th></th>\n",
       "      <th></th>\n",
       "      <th></th>\n",
       "      <th></th>\n",
       "      <th></th>\n",
       "      <th></th>\n",
       "      <th></th>\n",
       "      <th></th>\n",
       "      <th></th>\n",
       "      <th></th>\n",
       "      <th></th>\n",
       "      <th></th>\n",
       "      <th></th>\n",
       "      <th></th>\n",
       "      <th></th>\n",
       "      <th></th>\n",
       "      <th></th>\n",
       "      <th></th>\n",
       "      <th></th>\n",
       "      <th></th>\n",
       "    </tr>\n",
       "  </thead>\n",
       "  <tbody>\n",
       "    <tr>\n",
       "      <th>2010-01-01 00:00:00</th>\n",
       "      <td>3286</td>\n",
       "      <td>252</td>\n",
       "      <td>37113</td>\n",
       "      <td>85</td>\n",
       "      <td>903</td>\n",
       "      <td>1183</td>\n",
       "      <td>1996</td>\n",
       "      <td>3640</td>\n",
       "      <td>830</td>\n",
       "      <td>30079</td>\n",
       "      <td>...</td>\n",
       "      <td>1072</td>\n",
       "      <td>10798</td>\n",
       "      <td>984</td>\n",
       "      <td>1424</td>\n",
       "      <td>382</td>\n",
       "      <td>86</td>\n",
       "      <td>691</td>\n",
       "      <td>17041</td>\n",
       "      <td>1803</td>\n",
       "      <td>24421</td>\n",
       "    </tr>\n",
       "    <tr>\n",
       "      <th>2011-01-01 00:00:00</th>\n",
       "      <td>3272</td>\n",
       "      <td>253</td>\n",
       "      <td>37294</td>\n",
       "      <td>84</td>\n",
       "      <td>901</td>\n",
       "      <td>1185</td>\n",
       "      <td>1976</td>\n",
       "      <td>3617</td>\n",
       "      <td>828</td>\n",
       "      <td>30027</td>\n",
       "      <td>...</td>\n",
       "      <td>1075</td>\n",
       "      <td>10831</td>\n",
       "      <td>977</td>\n",
       "      <td>1391</td>\n",
       "      <td>379</td>\n",
       "      <td>86</td>\n",
       "      <td>687</td>\n",
       "      <td>17295</td>\n",
       "      <td>1798</td>\n",
       "      <td>24383</td>\n",
       "    </tr>\n",
       "    <tr>\n",
       "      <th>2012-01-01 00:00:00</th>\n",
       "      <td>3242</td>\n",
       "      <td>253</td>\n",
       "      <td>37393</td>\n",
       "      <td>84</td>\n",
       "      <td>893</td>\n",
       "      <td>1175</td>\n",
       "      <td>1992</td>\n",
       "      <td>3578</td>\n",
       "      <td>825</td>\n",
       "      <td>29956</td>\n",
       "      <td>...</td>\n",
       "      <td>1067</td>\n",
       "      <td>10864</td>\n",
       "      <td>970</td>\n",
       "      <td>1369</td>\n",
       "      <td>379</td>\n",
       "      <td>86</td>\n",
       "      <td>683</td>\n",
       "      <td>17544</td>\n",
       "      <td>1789</td>\n",
       "      <td>24327</td>\n",
       "    </tr>\n",
       "    <tr>\n",
       "      <th>2013-01-01 00:00:00</th>\n",
       "      <td>3228</td>\n",
       "      <td>249</td>\n",
       "      <td>37483</td>\n",
       "      <td>83</td>\n",
       "      <td>891</td>\n",
       "      <td>1166</td>\n",
       "      <td>1980</td>\n",
       "      <td>3615</td>\n",
       "      <td>818</td>\n",
       "      <td>30394</td>\n",
       "      <td>...</td>\n",
       "      <td>1059</td>\n",
       "      <td>10880</td>\n",
       "      <td>964</td>\n",
       "      <td>1360</td>\n",
       "      <td>374</td>\n",
       "      <td>85</td>\n",
       "      <td>682</td>\n",
       "      <td>17832</td>\n",
       "      <td>1772</td>\n",
       "      <td>24340</td>\n",
       "    </tr>\n",
       "    <tr>\n",
       "      <th>2014-01-01 00:00:00</th>\n",
       "      <td>3217</td>\n",
       "      <td>247</td>\n",
       "      <td>37426</td>\n",
       "      <td>82</td>\n",
       "      <td>886</td>\n",
       "      <td>1164</td>\n",
       "      <td>1964</td>\n",
       "      <td>3571</td>\n",
       "      <td>816</td>\n",
       "      <td>30328</td>\n",
       "      <td>...</td>\n",
       "      <td>1057</td>\n",
       "      <td>10867</td>\n",
       "      <td>957</td>\n",
       "      <td>1335</td>\n",
       "      <td>371</td>\n",
       "      <td>85</td>\n",
       "      <td>678</td>\n",
       "      <td>18174</td>\n",
       "      <td>1765</td>\n",
       "      <td>24294</td>\n",
       "    </tr>\n",
       "  </tbody>\n",
       "</table>\n",
       "<p>5 rows × 1298 columns</p>\n",
       "</div>"
      ],
      "text/plain": [
       "                     Abingdon city, Illinois  Addieville village, Illinois  \\\n",
       "Unnamed: 0                                                                   \n",
       "2010-01-01 00:00:00                     3286                           252   \n",
       "2011-01-01 00:00:00                     3272                           253   \n",
       "2012-01-01 00:00:00                     3242                           253   \n",
       "2013-01-01 00:00:00                     3228                           249   \n",
       "2014-01-01 00:00:00                     3217                           247   \n",
       "\n",
       "                     Addison village, Illinois  Adeline village, Illinois  \\\n",
       "Unnamed: 0                                                                  \n",
       "2010-01-01 00:00:00                      37113                         85   \n",
       "2011-01-01 00:00:00                      37294                         84   \n",
       "2012-01-01 00:00:00                      37393                         84   \n",
       "2013-01-01 00:00:00                      37483                         83   \n",
       "2014-01-01 00:00:00                      37426                         82   \n",
       "\n",
       "                     Albany village, Illinois  Albers village, Illinois  \\\n",
       "Unnamed: 0                                                                \n",
       "2010-01-01 00:00:00                       903                      1183   \n",
       "2011-01-01 00:00:00                       901                      1185   \n",
       "2012-01-01 00:00:00                       893                      1175   \n",
       "2013-01-01 00:00:00                       891                      1166   \n",
       "2014-01-01 00:00:00                       886                      1164   \n",
       "\n",
       "                     Albion city, Illinois  Aledo city, Illinois  \\\n",
       "Unnamed: 0                                                         \n",
       "2010-01-01 00:00:00                   1996                  3640   \n",
       "2011-01-01 00:00:00                   1976                  3617   \n",
       "2012-01-01 00:00:00                   1992                  3578   \n",
       "2013-01-01 00:00:00                   1980                  3615   \n",
       "2014-01-01 00:00:00                   1964                  3571   \n",
       "\n",
       "                     Alexis village, Illinois  Algonquin village, Illinois  \\\n",
       "Unnamed: 0                                                                   \n",
       "2010-01-01 00:00:00                       830                        30079   \n",
       "2011-01-01 00:00:00                       828                        30027   \n",
       "2012-01-01 00:00:00                       825                        29956   \n",
       "2013-01-01 00:00:00                       818                        30394   \n",
       "2014-01-01 00:00:00                       816                        30328   \n",
       "\n",
       "                     ...  Worden village, Illinois  Worth village, Illinois  \\\n",
       "Unnamed: 0           ...                                                      \n",
       "2010-01-01 00:00:00  ...                      1072                    10798   \n",
       "2011-01-01 00:00:00  ...                      1075                    10831   \n",
       "2012-01-01 00:00:00  ...                      1067                    10864   \n",
       "2013-01-01 00:00:00  ...                      1059                    10880   \n",
       "2014-01-01 00:00:00  ...                      1057                    10867   \n",
       "\n",
       "                     Wyanet village, Illinois  Wyoming city, Illinois  \\\n",
       "Unnamed: 0                                                              \n",
       "2010-01-01 00:00:00                       984                    1424   \n",
       "2011-01-01 00:00:00                       977                    1391   \n",
       "2012-01-01 00:00:00                       970                    1369   \n",
       "2013-01-01 00:00:00                       964                    1360   \n",
       "2014-01-01 00:00:00                       957                    1335   \n",
       "\n",
       "                     Xenia village, Illinois  Yale village, Illinois  \\\n",
       "Unnamed: 0                                                             \n",
       "2010-01-01 00:00:00                      382                      86   \n",
       "2011-01-01 00:00:00                      379                      86   \n",
       "2012-01-01 00:00:00                      379                      86   \n",
       "2013-01-01 00:00:00                      374                      85   \n",
       "2014-01-01 00:00:00                      371                      85   \n",
       "\n",
       "                     Yates City village, Illinois  Yorkville city, Illinois  \\\n",
       "Unnamed: 0                                                                    \n",
       "2010-01-01 00:00:00                           691                     17041   \n",
       "2011-01-01 00:00:00                           687                     17295   \n",
       "2012-01-01 00:00:00                           683                     17544   \n",
       "2013-01-01 00:00:00                           682                     17832   \n",
       "2014-01-01 00:00:00                           678                     18174   \n",
       "\n",
       "                     Zeigler city, Illinois  Zion city, Illinois  \n",
       "Unnamed: 0                                                        \n",
       "2010-01-01 00:00:00                    1803                24421  \n",
       "2011-01-01 00:00:00                    1798                24383  \n",
       "2012-01-01 00:00:00                    1789                24327  \n",
       "2013-01-01 00:00:00                    1772                24340  \n",
       "2014-01-01 00:00:00                    1765                24294  \n",
       "\n",
       "[5 rows x 1298 columns]"
      ]
     },
     "execution_count": 46,
     "metadata": {},
     "output_type": "execute_result"
    }
   ],
   "source": [
    "df.set_index(time.iloc[:,0], drop = True, inplace = True)\n",
    "\n",
    "df.head(2)\n",
    "\n",
    "df = df.iloc[:,1:]\n",
    "\n",
    "df.head(2)"
   ]
  },
  {
   "cell_type": "markdown",
   "metadata": {},
   "source": [
    "# Graphing\n",
    "\n",
    "Plotly is the designated graphing library for Dash, and offers a lot of fun interactivity. \n",
    "\n",
    "Below, we will create a general workflow for inputing a city name, and returning a time series of that city's population"
   ]
  },
  {
   "cell_type": "code",
   "execution_count": 47,
   "metadata": {
    "ExecuteTime": {
     "end_time": "2019-10-03T02:12:03.688184Z",
     "start_time": "2019-10-03T02:12:03.096856Z"
    }
   },
   "outputs": [
    {
     "data": {
      "application/vnd.plotly.v1+json": {
       "config": {
        "plotlyServerURL": "https://plot.ly"
       },
       "data": [
        {
         "type": "scatter",
         "x": [
          "2010-01-01 00:00:00",
          "2011-01-01 00:00:00",
          "2012-01-01 00:00:00",
          "2013-01-01 00:00:00",
          "2014-01-01 00:00:00",
          "2015-01-01 00:00:00",
          "2016-01-01 00:00:00",
          "2017-01-01 00:00:00",
          "2018-01-01 00:00:00"
         ],
         "y": [
          3286,
          3272,
          3242,
          3228,
          3217,
          3176,
          3147,
          3124,
          3088
         ]
        }
       ],
       "layout": {
        "template": {
         "data": {
          "bar": [
           {
            "error_x": {
             "color": "#2a3f5f"
            },
            "error_y": {
             "color": "#2a3f5f"
            },
            "marker": {
             "line": {
              "color": "#E5ECF6",
              "width": 0.5
             }
            },
            "type": "bar"
           }
          ],
          "barpolar": [
           {
            "marker": {
             "line": {
              "color": "#E5ECF6",
              "width": 0.5
             }
            },
            "type": "barpolar"
           }
          ],
          "carpet": [
           {
            "aaxis": {
             "endlinecolor": "#2a3f5f",
             "gridcolor": "white",
             "linecolor": "white",
             "minorgridcolor": "white",
             "startlinecolor": "#2a3f5f"
            },
            "baxis": {
             "endlinecolor": "#2a3f5f",
             "gridcolor": "white",
             "linecolor": "white",
             "minorgridcolor": "white",
             "startlinecolor": "#2a3f5f"
            },
            "type": "carpet"
           }
          ],
          "choropleth": [
           {
            "colorbar": {
             "outlinewidth": 0,
             "ticks": ""
            },
            "type": "choropleth"
           }
          ],
          "contour": [
           {
            "colorbar": {
             "outlinewidth": 0,
             "ticks": ""
            },
            "colorscale": [
             [
              0,
              "#0d0887"
             ],
             [
              0.1111111111111111,
              "#46039f"
             ],
             [
              0.2222222222222222,
              "#7201a8"
             ],
             [
              0.3333333333333333,
              "#9c179e"
             ],
             [
              0.4444444444444444,
              "#bd3786"
             ],
             [
              0.5555555555555556,
              "#d8576b"
             ],
             [
              0.6666666666666666,
              "#ed7953"
             ],
             [
              0.7777777777777778,
              "#fb9f3a"
             ],
             [
              0.8888888888888888,
              "#fdca26"
             ],
             [
              1,
              "#f0f921"
             ]
            ],
            "type": "contour"
           }
          ],
          "contourcarpet": [
           {
            "colorbar": {
             "outlinewidth": 0,
             "ticks": ""
            },
            "type": "contourcarpet"
           }
          ],
          "heatmap": [
           {
            "colorbar": {
             "outlinewidth": 0,
             "ticks": ""
            },
            "colorscale": [
             [
              0,
              "#0d0887"
             ],
             [
              0.1111111111111111,
              "#46039f"
             ],
             [
              0.2222222222222222,
              "#7201a8"
             ],
             [
              0.3333333333333333,
              "#9c179e"
             ],
             [
              0.4444444444444444,
              "#bd3786"
             ],
             [
              0.5555555555555556,
              "#d8576b"
             ],
             [
              0.6666666666666666,
              "#ed7953"
             ],
             [
              0.7777777777777778,
              "#fb9f3a"
             ],
             [
              0.8888888888888888,
              "#fdca26"
             ],
             [
              1,
              "#f0f921"
             ]
            ],
            "type": "heatmap"
           }
          ],
          "heatmapgl": [
           {
            "colorbar": {
             "outlinewidth": 0,
             "ticks": ""
            },
            "colorscale": [
             [
              0,
              "#0d0887"
             ],
             [
              0.1111111111111111,
              "#46039f"
             ],
             [
              0.2222222222222222,
              "#7201a8"
             ],
             [
              0.3333333333333333,
              "#9c179e"
             ],
             [
              0.4444444444444444,
              "#bd3786"
             ],
             [
              0.5555555555555556,
              "#d8576b"
             ],
             [
              0.6666666666666666,
              "#ed7953"
             ],
             [
              0.7777777777777778,
              "#fb9f3a"
             ],
             [
              0.8888888888888888,
              "#fdca26"
             ],
             [
              1,
              "#f0f921"
             ]
            ],
            "type": "heatmapgl"
           }
          ],
          "histogram": [
           {
            "marker": {
             "colorbar": {
              "outlinewidth": 0,
              "ticks": ""
             }
            },
            "type": "histogram"
           }
          ],
          "histogram2d": [
           {
            "colorbar": {
             "outlinewidth": 0,
             "ticks": ""
            },
            "colorscale": [
             [
              0,
              "#0d0887"
             ],
             [
              0.1111111111111111,
              "#46039f"
             ],
             [
              0.2222222222222222,
              "#7201a8"
             ],
             [
              0.3333333333333333,
              "#9c179e"
             ],
             [
              0.4444444444444444,
              "#bd3786"
             ],
             [
              0.5555555555555556,
              "#d8576b"
             ],
             [
              0.6666666666666666,
              "#ed7953"
             ],
             [
              0.7777777777777778,
              "#fb9f3a"
             ],
             [
              0.8888888888888888,
              "#fdca26"
             ],
             [
              1,
              "#f0f921"
             ]
            ],
            "type": "histogram2d"
           }
          ],
          "histogram2dcontour": [
           {
            "colorbar": {
             "outlinewidth": 0,
             "ticks": ""
            },
            "colorscale": [
             [
              0,
              "#0d0887"
             ],
             [
              0.1111111111111111,
              "#46039f"
             ],
             [
              0.2222222222222222,
              "#7201a8"
             ],
             [
              0.3333333333333333,
              "#9c179e"
             ],
             [
              0.4444444444444444,
              "#bd3786"
             ],
             [
              0.5555555555555556,
              "#d8576b"
             ],
             [
              0.6666666666666666,
              "#ed7953"
             ],
             [
              0.7777777777777778,
              "#fb9f3a"
             ],
             [
              0.8888888888888888,
              "#fdca26"
             ],
             [
              1,
              "#f0f921"
             ]
            ],
            "type": "histogram2dcontour"
           }
          ],
          "mesh3d": [
           {
            "colorbar": {
             "outlinewidth": 0,
             "ticks": ""
            },
            "type": "mesh3d"
           }
          ],
          "parcoords": [
           {
            "line": {
             "colorbar": {
              "outlinewidth": 0,
              "ticks": ""
             }
            },
            "type": "parcoords"
           }
          ],
          "scatter": [
           {
            "marker": {
             "colorbar": {
              "outlinewidth": 0,
              "ticks": ""
             }
            },
            "type": "scatter"
           }
          ],
          "scatter3d": [
           {
            "line": {
             "colorbar": {
              "outlinewidth": 0,
              "ticks": ""
             }
            },
            "marker": {
             "colorbar": {
              "outlinewidth": 0,
              "ticks": ""
             }
            },
            "type": "scatter3d"
           }
          ],
          "scattercarpet": [
           {
            "marker": {
             "colorbar": {
              "outlinewidth": 0,
              "ticks": ""
             }
            },
            "type": "scattercarpet"
           }
          ],
          "scattergeo": [
           {
            "marker": {
             "colorbar": {
              "outlinewidth": 0,
              "ticks": ""
             }
            },
            "type": "scattergeo"
           }
          ],
          "scattergl": [
           {
            "marker": {
             "colorbar": {
              "outlinewidth": 0,
              "ticks": ""
             }
            },
            "type": "scattergl"
           }
          ],
          "scattermapbox": [
           {
            "marker": {
             "colorbar": {
              "outlinewidth": 0,
              "ticks": ""
             }
            },
            "type": "scattermapbox"
           }
          ],
          "scatterpolar": [
           {
            "marker": {
             "colorbar": {
              "outlinewidth": 0,
              "ticks": ""
             }
            },
            "type": "scatterpolar"
           }
          ],
          "scatterpolargl": [
           {
            "marker": {
             "colorbar": {
              "outlinewidth": 0,
              "ticks": ""
             }
            },
            "type": "scatterpolargl"
           }
          ],
          "scatterternary": [
           {
            "marker": {
             "colorbar": {
              "outlinewidth": 0,
              "ticks": ""
             }
            },
            "type": "scatterternary"
           }
          ],
          "surface": [
           {
            "colorbar": {
             "outlinewidth": 0,
             "ticks": ""
            },
            "colorscale": [
             [
              0,
              "#0d0887"
             ],
             [
              0.1111111111111111,
              "#46039f"
             ],
             [
              0.2222222222222222,
              "#7201a8"
             ],
             [
              0.3333333333333333,
              "#9c179e"
             ],
             [
              0.4444444444444444,
              "#bd3786"
             ],
             [
              0.5555555555555556,
              "#d8576b"
             ],
             [
              0.6666666666666666,
              "#ed7953"
             ],
             [
              0.7777777777777778,
              "#fb9f3a"
             ],
             [
              0.8888888888888888,
              "#fdca26"
             ],
             [
              1,
              "#f0f921"
             ]
            ],
            "type": "surface"
           }
          ],
          "table": [
           {
            "cells": {
             "fill": {
              "color": "#EBF0F8"
             },
             "line": {
              "color": "white"
             }
            },
            "header": {
             "fill": {
              "color": "#C8D4E3"
             },
             "line": {
              "color": "white"
             }
            },
            "type": "table"
           }
          ]
         },
         "layout": {
          "annotationdefaults": {
           "arrowcolor": "#2a3f5f",
           "arrowhead": 0,
           "arrowwidth": 1
          },
          "colorscale": {
           "diverging": [
            [
             0,
             "#8e0152"
            ],
            [
             0.1,
             "#c51b7d"
            ],
            [
             0.2,
             "#de77ae"
            ],
            [
             0.3,
             "#f1b6da"
            ],
            [
             0.4,
             "#fde0ef"
            ],
            [
             0.5,
             "#f7f7f7"
            ],
            [
             0.6,
             "#e6f5d0"
            ],
            [
             0.7,
             "#b8e186"
            ],
            [
             0.8,
             "#7fbc41"
            ],
            [
             0.9,
             "#4d9221"
            ],
            [
             1,
             "#276419"
            ]
           ],
           "sequential": [
            [
             0,
             "#0d0887"
            ],
            [
             0.1111111111111111,
             "#46039f"
            ],
            [
             0.2222222222222222,
             "#7201a8"
            ],
            [
             0.3333333333333333,
             "#9c179e"
            ],
            [
             0.4444444444444444,
             "#bd3786"
            ],
            [
             0.5555555555555556,
             "#d8576b"
            ],
            [
             0.6666666666666666,
             "#ed7953"
            ],
            [
             0.7777777777777778,
             "#fb9f3a"
            ],
            [
             0.8888888888888888,
             "#fdca26"
            ],
            [
             1,
             "#f0f921"
            ]
           ],
           "sequentialminus": [
            [
             0,
             "#0d0887"
            ],
            [
             0.1111111111111111,
             "#46039f"
            ],
            [
             0.2222222222222222,
             "#7201a8"
            ],
            [
             0.3333333333333333,
             "#9c179e"
            ],
            [
             0.4444444444444444,
             "#bd3786"
            ],
            [
             0.5555555555555556,
             "#d8576b"
            ],
            [
             0.6666666666666666,
             "#ed7953"
            ],
            [
             0.7777777777777778,
             "#fb9f3a"
            ],
            [
             0.8888888888888888,
             "#fdca26"
            ],
            [
             1,
             "#f0f921"
            ]
           ]
          },
          "colorway": [
           "#636efa",
           "#EF553B",
           "#00cc96",
           "#ab63fa",
           "#FFA15A",
           "#19d3f3",
           "#FF6692",
           "#B6E880",
           "#FF97FF",
           "#FECB52"
          ],
          "font": {
           "color": "#2a3f5f"
          },
          "geo": {
           "bgcolor": "white",
           "lakecolor": "white",
           "landcolor": "#E5ECF6",
           "showlakes": true,
           "showland": true,
           "subunitcolor": "white"
          },
          "hoverlabel": {
           "align": "left"
          },
          "hovermode": "closest",
          "mapbox": {
           "style": "light"
          },
          "paper_bgcolor": "white",
          "plot_bgcolor": "#E5ECF6",
          "polar": {
           "angularaxis": {
            "gridcolor": "white",
            "linecolor": "white",
            "ticks": ""
           },
           "bgcolor": "#E5ECF6",
           "radialaxis": {
            "gridcolor": "white",
            "linecolor": "white",
            "ticks": ""
           }
          },
          "scene": {
           "xaxis": {
            "backgroundcolor": "#E5ECF6",
            "gridcolor": "white",
            "gridwidth": 2,
            "linecolor": "white",
            "showbackground": true,
            "ticks": "",
            "zerolinecolor": "white"
           },
           "yaxis": {
            "backgroundcolor": "#E5ECF6",
            "gridcolor": "white",
            "gridwidth": 2,
            "linecolor": "white",
            "showbackground": true,
            "ticks": "",
            "zerolinecolor": "white"
           },
           "zaxis": {
            "backgroundcolor": "#E5ECF6",
            "gridcolor": "white",
            "gridwidth": 2,
            "linecolor": "white",
            "showbackground": true,
            "ticks": "",
            "zerolinecolor": "white"
           }
          },
          "shapedefaults": {
           "line": {
            "color": "#2a3f5f"
           }
          },
          "ternary": {
           "aaxis": {
            "gridcolor": "white",
            "linecolor": "white",
            "ticks": ""
           },
           "baxis": {
            "gridcolor": "white",
            "linecolor": "white",
            "ticks": ""
           },
           "bgcolor": "#E5ECF6",
           "caxis": {
            "gridcolor": "white",
            "linecolor": "white",
            "ticks": ""
           }
          },
          "title": {
           "x": 0.05
          },
          "xaxis": {
           "automargin": true,
           "gridcolor": "white",
           "linecolor": "white",
           "ticks": "",
           "zerolinecolor": "white",
           "zerolinewidth": 2
          },
          "yaxis": {
           "automargin": true,
           "gridcolor": "white",
           "linecolor": "white",
           "ticks": "",
           "zerolinecolor": "white",
           "zerolinewidth": 2
          }
         }
        }
       }
      },
      "text/html": [
       "<div>\n",
       "        \n",
       "        \n",
       "            <div id=\"0b12846c-cbbd-4a83-ba3a-0485cea2b7bc\" class=\"plotly-graph-div\" style=\"height:525px; width:100%;\"></div>\n",
       "            <script type=\"text/javascript\">\n",
       "                require([\"plotly\"], function(Plotly) {\n",
       "                    window.PLOTLYENV=window.PLOTLYENV || {};\n",
       "                    \n",
       "                if (document.getElementById(\"0b12846c-cbbd-4a83-ba3a-0485cea2b7bc\")) {\n",
       "                    Plotly.newPlot(\n",
       "                        '0b12846c-cbbd-4a83-ba3a-0485cea2b7bc',\n",
       "                        [{\"type\": \"scatter\", \"x\": [\"2010-01-01 00:00:00\", \"2011-01-01 00:00:00\", \"2012-01-01 00:00:00\", \"2013-01-01 00:00:00\", \"2014-01-01 00:00:00\", \"2015-01-01 00:00:00\", \"2016-01-01 00:00:00\", \"2017-01-01 00:00:00\", \"2018-01-01 00:00:00\"], \"y\": [3286, 3272, 3242, 3228, 3217, 3176, 3147, 3124, 3088]}],\n",
       "                        {\"template\": {\"data\": {\"bar\": [{\"error_x\": {\"color\": \"#2a3f5f\"}, \"error_y\": {\"color\": \"#2a3f5f\"}, \"marker\": {\"line\": {\"color\": \"#E5ECF6\", \"width\": 0.5}}, \"type\": \"bar\"}], \"barpolar\": [{\"marker\": {\"line\": {\"color\": \"#E5ECF6\", \"width\": 0.5}}, \"type\": \"barpolar\"}], \"carpet\": [{\"aaxis\": {\"endlinecolor\": \"#2a3f5f\", \"gridcolor\": \"white\", \"linecolor\": \"white\", \"minorgridcolor\": \"white\", \"startlinecolor\": \"#2a3f5f\"}, \"baxis\": {\"endlinecolor\": \"#2a3f5f\", \"gridcolor\": \"white\", \"linecolor\": \"white\", \"minorgridcolor\": \"white\", \"startlinecolor\": \"#2a3f5f\"}, \"type\": \"carpet\"}], \"choropleth\": [{\"colorbar\": {\"outlinewidth\": 0, \"ticks\": \"\"}, \"type\": \"choropleth\"}], \"contour\": [{\"colorbar\": {\"outlinewidth\": 0, \"ticks\": \"\"}, \"colorscale\": [[0.0, \"#0d0887\"], [0.1111111111111111, \"#46039f\"], [0.2222222222222222, \"#7201a8\"], [0.3333333333333333, \"#9c179e\"], [0.4444444444444444, \"#bd3786\"], [0.5555555555555556, \"#d8576b\"], [0.6666666666666666, \"#ed7953\"], [0.7777777777777778, \"#fb9f3a\"], [0.8888888888888888, \"#fdca26\"], [1.0, \"#f0f921\"]], \"type\": \"contour\"}], \"contourcarpet\": [{\"colorbar\": {\"outlinewidth\": 0, \"ticks\": \"\"}, \"type\": \"contourcarpet\"}], \"heatmap\": [{\"colorbar\": {\"outlinewidth\": 0, \"ticks\": \"\"}, \"colorscale\": [[0.0, \"#0d0887\"], [0.1111111111111111, \"#46039f\"], [0.2222222222222222, \"#7201a8\"], [0.3333333333333333, \"#9c179e\"], [0.4444444444444444, \"#bd3786\"], [0.5555555555555556, \"#d8576b\"], [0.6666666666666666, \"#ed7953\"], [0.7777777777777778, \"#fb9f3a\"], [0.8888888888888888, \"#fdca26\"], [1.0, \"#f0f921\"]], \"type\": \"heatmap\"}], \"heatmapgl\": [{\"colorbar\": {\"outlinewidth\": 0, \"ticks\": \"\"}, \"colorscale\": [[0.0, \"#0d0887\"], [0.1111111111111111, \"#46039f\"], [0.2222222222222222, \"#7201a8\"], [0.3333333333333333, \"#9c179e\"], [0.4444444444444444, \"#bd3786\"], [0.5555555555555556, \"#d8576b\"], [0.6666666666666666, \"#ed7953\"], [0.7777777777777778, \"#fb9f3a\"], [0.8888888888888888, \"#fdca26\"], [1.0, \"#f0f921\"]], \"type\": \"heatmapgl\"}], \"histogram\": [{\"marker\": {\"colorbar\": {\"outlinewidth\": 0, \"ticks\": \"\"}}, \"type\": \"histogram\"}], \"histogram2d\": [{\"colorbar\": {\"outlinewidth\": 0, \"ticks\": \"\"}, \"colorscale\": [[0.0, \"#0d0887\"], [0.1111111111111111, \"#46039f\"], [0.2222222222222222, \"#7201a8\"], [0.3333333333333333, \"#9c179e\"], [0.4444444444444444, \"#bd3786\"], [0.5555555555555556, \"#d8576b\"], [0.6666666666666666, \"#ed7953\"], [0.7777777777777778, \"#fb9f3a\"], [0.8888888888888888, \"#fdca26\"], [1.0, \"#f0f921\"]], \"type\": \"histogram2d\"}], \"histogram2dcontour\": [{\"colorbar\": {\"outlinewidth\": 0, \"ticks\": \"\"}, \"colorscale\": [[0.0, \"#0d0887\"], [0.1111111111111111, \"#46039f\"], [0.2222222222222222, \"#7201a8\"], [0.3333333333333333, \"#9c179e\"], [0.4444444444444444, \"#bd3786\"], [0.5555555555555556, \"#d8576b\"], [0.6666666666666666, \"#ed7953\"], [0.7777777777777778, \"#fb9f3a\"], [0.8888888888888888, \"#fdca26\"], [1.0, \"#f0f921\"]], \"type\": \"histogram2dcontour\"}], \"mesh3d\": [{\"colorbar\": {\"outlinewidth\": 0, \"ticks\": \"\"}, \"type\": \"mesh3d\"}], \"parcoords\": [{\"line\": {\"colorbar\": {\"outlinewidth\": 0, \"ticks\": \"\"}}, \"type\": \"parcoords\"}], \"scatter\": [{\"marker\": {\"colorbar\": {\"outlinewidth\": 0, \"ticks\": \"\"}}, \"type\": \"scatter\"}], \"scatter3d\": [{\"line\": {\"colorbar\": {\"outlinewidth\": 0, \"ticks\": \"\"}}, \"marker\": {\"colorbar\": {\"outlinewidth\": 0, \"ticks\": \"\"}}, \"type\": \"scatter3d\"}], \"scattercarpet\": [{\"marker\": {\"colorbar\": {\"outlinewidth\": 0, \"ticks\": \"\"}}, \"type\": \"scattercarpet\"}], \"scattergeo\": [{\"marker\": {\"colorbar\": {\"outlinewidth\": 0, \"ticks\": \"\"}}, \"type\": \"scattergeo\"}], \"scattergl\": [{\"marker\": {\"colorbar\": {\"outlinewidth\": 0, \"ticks\": \"\"}}, \"type\": \"scattergl\"}], \"scattermapbox\": [{\"marker\": {\"colorbar\": {\"outlinewidth\": 0, \"ticks\": \"\"}}, \"type\": \"scattermapbox\"}], \"scatterpolar\": [{\"marker\": {\"colorbar\": {\"outlinewidth\": 0, \"ticks\": \"\"}}, \"type\": \"scatterpolar\"}], \"scatterpolargl\": [{\"marker\": {\"colorbar\": {\"outlinewidth\": 0, \"ticks\": \"\"}}, \"type\": \"scatterpolargl\"}], \"scatterternary\": [{\"marker\": {\"colorbar\": {\"outlinewidth\": 0, \"ticks\": \"\"}}, \"type\": \"scatterternary\"}], \"surface\": [{\"colorbar\": {\"outlinewidth\": 0, \"ticks\": \"\"}, \"colorscale\": [[0.0, \"#0d0887\"], [0.1111111111111111, \"#46039f\"], [0.2222222222222222, \"#7201a8\"], [0.3333333333333333, \"#9c179e\"], [0.4444444444444444, \"#bd3786\"], [0.5555555555555556, \"#d8576b\"], [0.6666666666666666, \"#ed7953\"], [0.7777777777777778, \"#fb9f3a\"], [0.8888888888888888, \"#fdca26\"], [1.0, \"#f0f921\"]], \"type\": \"surface\"}], \"table\": [{\"cells\": {\"fill\": {\"color\": \"#EBF0F8\"}, \"line\": {\"color\": \"white\"}}, \"header\": {\"fill\": {\"color\": \"#C8D4E3\"}, \"line\": {\"color\": \"white\"}}, \"type\": \"table\"}]}, \"layout\": {\"annotationdefaults\": {\"arrowcolor\": \"#2a3f5f\", \"arrowhead\": 0, \"arrowwidth\": 1}, \"colorscale\": {\"diverging\": [[0, \"#8e0152\"], [0.1, \"#c51b7d\"], [0.2, \"#de77ae\"], [0.3, \"#f1b6da\"], [0.4, \"#fde0ef\"], [0.5, \"#f7f7f7\"], [0.6, \"#e6f5d0\"], [0.7, \"#b8e186\"], [0.8, \"#7fbc41\"], [0.9, \"#4d9221\"], [1, \"#276419\"]], \"sequential\": [[0.0, \"#0d0887\"], [0.1111111111111111, \"#46039f\"], [0.2222222222222222, \"#7201a8\"], [0.3333333333333333, \"#9c179e\"], [0.4444444444444444, \"#bd3786\"], [0.5555555555555556, \"#d8576b\"], [0.6666666666666666, \"#ed7953\"], [0.7777777777777778, \"#fb9f3a\"], [0.8888888888888888, \"#fdca26\"], [1.0, \"#f0f921\"]], \"sequentialminus\": [[0.0, \"#0d0887\"], [0.1111111111111111, \"#46039f\"], [0.2222222222222222, \"#7201a8\"], [0.3333333333333333, \"#9c179e\"], [0.4444444444444444, \"#bd3786\"], [0.5555555555555556, \"#d8576b\"], [0.6666666666666666, \"#ed7953\"], [0.7777777777777778, \"#fb9f3a\"], [0.8888888888888888, \"#fdca26\"], [1.0, \"#f0f921\"]]}, \"colorway\": [\"#636efa\", \"#EF553B\", \"#00cc96\", \"#ab63fa\", \"#FFA15A\", \"#19d3f3\", \"#FF6692\", \"#B6E880\", \"#FF97FF\", \"#FECB52\"], \"font\": {\"color\": \"#2a3f5f\"}, \"geo\": {\"bgcolor\": \"white\", \"lakecolor\": \"white\", \"landcolor\": \"#E5ECF6\", \"showlakes\": true, \"showland\": true, \"subunitcolor\": \"white\"}, \"hoverlabel\": {\"align\": \"left\"}, \"hovermode\": \"closest\", \"mapbox\": {\"style\": \"light\"}, \"paper_bgcolor\": \"white\", \"plot_bgcolor\": \"#E5ECF6\", \"polar\": {\"angularaxis\": {\"gridcolor\": \"white\", \"linecolor\": \"white\", \"ticks\": \"\"}, \"bgcolor\": \"#E5ECF6\", \"radialaxis\": {\"gridcolor\": \"white\", \"linecolor\": \"white\", \"ticks\": \"\"}}, \"scene\": {\"xaxis\": {\"backgroundcolor\": \"#E5ECF6\", \"gridcolor\": \"white\", \"gridwidth\": 2, \"linecolor\": \"white\", \"showbackground\": true, \"ticks\": \"\", \"zerolinecolor\": \"white\"}, \"yaxis\": {\"backgroundcolor\": \"#E5ECF6\", \"gridcolor\": \"white\", \"gridwidth\": 2, \"linecolor\": \"white\", \"showbackground\": true, \"ticks\": \"\", \"zerolinecolor\": \"white\"}, \"zaxis\": {\"backgroundcolor\": \"#E5ECF6\", \"gridcolor\": \"white\", \"gridwidth\": 2, \"linecolor\": \"white\", \"showbackground\": true, \"ticks\": \"\", \"zerolinecolor\": \"white\"}}, \"shapedefaults\": {\"line\": {\"color\": \"#2a3f5f\"}}, \"ternary\": {\"aaxis\": {\"gridcolor\": \"white\", \"linecolor\": \"white\", \"ticks\": \"\"}, \"baxis\": {\"gridcolor\": \"white\", \"linecolor\": \"white\", \"ticks\": \"\"}, \"bgcolor\": \"#E5ECF6\", \"caxis\": {\"gridcolor\": \"white\", \"linecolor\": \"white\", \"ticks\": \"\"}}, \"title\": {\"x\": 0.05}, \"xaxis\": {\"automargin\": true, \"gridcolor\": \"white\", \"linecolor\": \"white\", \"ticks\": \"\", \"zerolinecolor\": \"white\", \"zerolinewidth\": 2}, \"yaxis\": {\"automargin\": true, \"gridcolor\": \"white\", \"linecolor\": \"white\", \"ticks\": \"\", \"zerolinecolor\": \"white\", \"zerolinewidth\": 2}}}},\n",
       "                        {\"responsive\": true}\n",
       "                    ).then(function(){\n",
       "                            \n",
       "var gd = document.getElementById('0b12846c-cbbd-4a83-ba3a-0485cea2b7bc');\n",
       "var x = new MutationObserver(function (mutations, observer) {{\n",
       "        var display = window.getComputedStyle(gd).display;\n",
       "        if (!display || display === 'none') {{\n",
       "            console.log([gd, 'removed!']);\n",
       "            Plotly.purge(gd);\n",
       "            observer.disconnect();\n",
       "        }}\n",
       "}});\n",
       "\n",
       "// Listen for the removal of the full notebook cells\n",
       "var notebookContainer = gd.closest('#notebook-container');\n",
       "if (notebookContainer) {{\n",
       "    x.observe(notebookContainer, {childList: true});\n",
       "}}\n",
       "\n",
       "// Listen for the clearing of the current output cell\n",
       "var outputEl = gd.closest('.output');\n",
       "if (outputEl) {{\n",
       "    x.observe(outputEl, {childList: true});\n",
       "}}\n",
       "\n",
       "                        })\n",
       "                };\n",
       "                });\n",
       "            </script>\n",
       "        </div>"
      ]
     },
     "metadata": {},
     "output_type": "display_data"
    }
   ],
   "source": [
    "labels = time.index\n",
    "values = time.iloc[:,0].values\n",
    "fig = go.Figure([go.Scatter(x = labels, y = values)])\n",
    "fig.show()"
   ]
  },
  {
   "cell_type": "markdown",
   "metadata": {},
   "source": [
    "# Dash Elements\n",
    "\n",
    "Great! Now let's build some elements for this dashboard. \n",
    "\n",
    "First we will start witha dropdown menu. This will allow users to search through the available list of cities.\n",
    "\n",
    "[Dropdown menus](https://dash.plot.ly/dash-core-components/dropdown) are formatted as a list of dictionaries. Each dictionary has two keys. 'label', and 'value.\n",
    "\n",
    "**label:** Whatever value you want the user to see in the dropdown menu\n",
    "**value:** Whatever value is needed to filter your dataset based on the users selections\n",
    "\n",
    "Since this project is only focused on the state of Illinois, It's a bit overkill to have ', Illinois' after every single city. \n",
    "\n",
    "Using list comprehension we will create a list of dictionaries where the label does not have ', Illinois', but the corresponding value does."
   ]
  },
  {
   "cell_type": "code",
   "execution_count": 52,
   "metadata": {
    "ExecuteTime": {
     "end_time": "2019-10-03T04:12:18.120195Z",
     "start_time": "2019-10-03T04:12:18.110261Z"
    }
   },
   "outputs": [],
   "source": [
    "names = time.columns\n",
    "\n",
    "dropdown = [{'label':x.replace(', Illinois', ''), 'value': x} for x in names]"
   ]
  },
  {
   "cell_type": "code",
   "execution_count": 64,
   "metadata": {
    "ExecuteTime": {
     "end_time": "2019-10-03T16:24:36.424016Z",
     "start_time": "2019-10-03T16:24:36.329006Z"
    }
   },
   "outputs": [
    {
     "data": {
      "text/plain": [
       "[{'label': 'Abingdon city', 'value': 'Abingdon city, Illinois'},\n",
       " {'label': 'Addieville village', 'value': 'Addieville village, Illinois'},\n",
       " {'label': 'Addison village', 'value': 'Addison village, Illinois'},\n",
       " {'label': 'Adeline village', 'value': 'Adeline village, Illinois'},\n",
       " {'label': 'Albany village', 'value': 'Albany village, Illinois'}]"
      ]
     },
     "execution_count": 64,
     "metadata": {},
     "output_type": "execute_result"
    }
   ],
   "source": [
    "dropdown[:5]"
   ]
  },
  {
   "cell_type": "markdown",
   "metadata": {},
   "source": [
    "That looks great! Save the list using pickle so we can load it into our app file."
   ]
  },
  {
   "cell_type": "code",
   "execution_count": 62,
   "metadata": {
    "ExecuteTime": {
     "end_time": "2019-10-03T04:22:31.787865Z",
     "start_time": "2019-10-03T04:22:31.781764Z"
    }
   },
   "outputs": [],
   "source": [
    "with open('dropdown', 'wb') as fp:\n",
    "    pickle.dump(dropdown, fp)"
   ]
  }
 ],
 "metadata": {
  "hide_input": false,
  "kernelspec": {
   "display_name": "Python 3",
   "language": "python",
   "name": "python3"
  },
  "language_info": {
   "codemirror_mode": {
    "name": "ipython",
    "version": 3
   },
   "file_extension": ".py",
   "mimetype": "text/x-python",
   "name": "python",
   "nbconvert_exporter": "python",
   "pygments_lexer": "ipython3",
   "version": "3.7.3"
  },
  "toc": {
   "base_numbering": 1,
   "nav_menu": {},
   "number_sections": false,
   "sideBar": true,
   "skip_h1_title": true,
   "title_cell": "Table of Contents",
   "title_sidebar": "Contents",
   "toc_cell": false,
   "toc_position": {},
   "toc_section_display": true,
   "toc_window_display": false
  },
  "varInspector": {
   "cols": {
    "lenName": 16,
    "lenType": 16,
    "lenVar": 40
   },
   "kernels_config": {
    "python": {
     "delete_cmd_postfix": "",
     "delete_cmd_prefix": "del ",
     "library": "var_list.py",
     "varRefreshCmd": "print(var_dic_list())"
    },
    "r": {
     "delete_cmd_postfix": ") ",
     "delete_cmd_prefix": "rm(",
     "library": "var_list.r",
     "varRefreshCmd": "cat(var_dic_list()) "
    }
   },
   "types_to_exclude": [
    "module",
    "function",
    "builtin_function_or_method",
    "instance",
    "_Feature"
   ],
   "window_display": false
  }
 },
 "nbformat": 4,
 "nbformat_minor": 2
}
